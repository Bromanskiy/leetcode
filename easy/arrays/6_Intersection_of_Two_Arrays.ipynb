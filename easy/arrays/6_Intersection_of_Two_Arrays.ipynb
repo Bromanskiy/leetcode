{
 "cells": [
  {
   "cell_type": "code",
   "execution_count": null,
   "metadata": {},
   "outputs": [],
   "source": [
    "import numpy as np\n",
    "\n",
    "def findIntersection(nums1, nums2):\n",
    "    i = 0\n",
    "\n",
    "    nums1 = np.asarray(nums1)\n",
    "    nums2 = np.asarray(nums2)\n",
    "\n",
    "    if len(nums1) == 0  or len(nums2) == 0:\n",
    "        return []\n",
    "    else:\n",
    "        intersection_array = [i for i in nums1 if i in nums2]\n",
    "\n",
    "    return print(intersection_array)\n",
    "\n",
    "#nums1 = [1, 2, 2, 1]\n",
    "#nums2 = [2, 2]\n",
    "\n",
    "nums1 = []\n",
    "nums2 = []\n",
    "\n",
    "findIntersection(nums1, nums2)"
   ]
  }
 ],
 "metadata": {
  "kernelspec": {
   "display_name": "Python 3",
   "language": "python",
   "name": "python3"
  },
  "language_info": {
   "codemirror_mode": {
    "name": "ipython",
    "version": 3
   },
   "file_extension": ".py",
   "mimetype": "text/x-python",
   "name": "python",
   "nbconvert_exporter": "python",
   "pygments_lexer": "ipython3",
   "version": "3.6.4"
  }
 },
 "nbformat": 4,
 "nbformat_minor": 2
}
