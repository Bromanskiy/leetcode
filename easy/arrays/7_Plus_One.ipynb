{
 "cells": [
  {
   "cell_type": "code",
   "execution_count": null,
   "metadata": {},
   "outputs": [],
   "source": [
    "def plusOne(nums1):\n",
    "\n",
    "    print(\"Input array\", nums1)\n",
    "    \n",
    "    # to make digit from combining each element of a list\n",
    "    magic = lambda nums1: int(''.join(str(i) for i in nums1))\n",
    "    \n",
    "    # to increment a digit by 1, transform it to str and then to list\n",
    "    nums1 = list(str(magic(nums1) + 1))\n",
    "\n",
    "    # to transform each element of a list from str to int\n",
    "    for i in range (len(nums1)):\n",
    "        nums1[i] = int(nums1[i])\n",
    "\n",
    "    return nums1\n",
    "    print(\"Updated array\", nums1)"
   ]
  }
 ],
 "metadata": {
  "kernelspec": {
   "display_name": "Python 3",
   "language": "python",
   "name": "python3"
  },
  "language_info": {
   "codemirror_mode": {
    "name": "ipython",
    "version": 3
   },
   "file_extension": ".py",
   "mimetype": "text/x-python",
   "name": "python",
   "nbconvert_exporter": "python",
   "pygments_lexer": "ipython3",
   "version": "3.6.4"
  }
 },
 "nbformat": 4,
 "nbformat_minor": 2
}
