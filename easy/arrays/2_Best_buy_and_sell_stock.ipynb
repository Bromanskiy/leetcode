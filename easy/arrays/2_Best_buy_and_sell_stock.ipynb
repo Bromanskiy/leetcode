{
 "cells": [
  {
   "cell_type": "code",
   "execution_count": null,
   "metadata": {},
   "outputs": [],
   "source": [
    "def maxProfit(self, prices):\n",
    "\n",
    "    #total = 0\n",
    "\n",
    "    #for price in range(1, len(prices)-1):\n",
    "    #    if (prices[price+1] > prices[price]):\n",
    "    #        total += prices[price+1]-prices[price]\n",
    "\n",
    "    #return total\n",
    "\n",
    "    profit = 0\n",
    "\n",
    "    for price in range(0, len(prices)-1):\n",
    "        diff = prices[price + 1] - prices[price]\n",
    "        if (diff > 0):\n",
    "            profit += diff\n",
    "\n",
    "    return profit;"
   ]
  }
 ],
 "metadata": {
  "kernelspec": {
   "display_name": "Python 3",
   "language": "python",
   "name": "python3"
  },
  "language_info": {
   "codemirror_mode": {
    "name": "ipython",
    "version": 3
   },
   "file_extension": ".py",
   "mimetype": "text/x-python",
   "name": "python",
   "nbconvert_exporter": "python",
   "pygments_lexer": "ipython3",
   "version": "3.6.4"
  }
 },
 "nbformat": 4,
 "nbformat_minor": 2
}
