{
 "cells": [
  {
   "cell_type": "code",
   "execution_count": null,
   "metadata": {},
   "outputs": [],
   "source": [
    "import numpy as np\n",
    "import sys \n",
    "\n",
    "def findDuplicates(nums, temp_dups):\n",
    "    \n",
    "    i = 0\n",
    "    \n",
    "    if nums is None or len(nums) == 0:\n",
    "        return 0\n",
    "    else:\n",
    "        print (\"Input array: \", nums)\n",
    "        nums.sort()\n",
    "        print (\"Input sorted array: \", nums)\n",
    "        for num in range(0, len(nums)-1):\n",
    "            if nums[num] == nums[num + 1]:\n",
    "                for i in range(0, len(nums)-1):\n",
    "                    temp_dups.append(nums[num])\n",
    "                    i += 1\n",
    "\n",
    "    return list(set(temp_dups))\n",
    "\n",
    "\n",
    "def singleNumber(nums):\n",
    "    \n",
    "    temp_dups = []\n",
    "    \n",
    "    findDuplicates(nums, temp_dups)\n",
    "    list(set(nums))\n",
    "    \n",
    "    nums = np.asarray(nums)\n",
    "    temp_dumps_np = np.asarray(temp_dups)\n",
    "    \n",
    "    diff_array = [i for i in nums if i not in temp_dumps_np]\n",
    "    \n",
    "    print(\"Output: \")\n",
    "    return diff_array[0]"
   ]
  }
 ],
 "metadata": {
  "kernelspec": {
   "display_name": "Python 3",
   "language": "python",
   "name": "python3"
  },
  "language_info": {
   "codemirror_mode": {
    "name": "ipython",
    "version": 3
   },
   "file_extension": ".py",
   "mimetype": "text/x-python",
   "name": "python",
   "nbconvert_exporter": "python",
   "pygments_lexer": "ipython3",
   "version": "3.6.4"
  }
 },
 "nbformat": 4,
 "nbformat_minor": 2
}
